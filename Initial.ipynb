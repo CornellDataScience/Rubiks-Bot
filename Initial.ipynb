{
  "nbformat": 4,
  "nbformat_minor": 0,
  "metadata": {
    "colab": {
      "provenance": []
    },
    "kernelspec": {
      "name": "python3",
      "display_name": "Python 3"
    },
    "language_info": {
      "name": "python"
    }
  },
  "cells": [
    {
      "cell_type": "code",
      "source": [
        "%pip install pycuber"
      ],
      "metadata": {
        "colab": {
          "base_uri": "https://localhost:8080/"
        },
        "id": "E6vz9VBo_c4I",
        "outputId": "3ed455e9-c6e2-455e-cdac-7fb3a64a38ed"
      },
      "execution_count": 4,
      "outputs": [
        {
          "output_type": "stream",
          "name": "stdout",
          "text": [
            "Looking in indexes: https://pypi.org/simple, https://us-python.pkg.dev/colab-wheels/public/simple/\n",
            "Collecting pycuber\n",
            "  Downloading pycuber-0.2.2-py3-none-any.whl (23 kB)\n",
            "Installing collected packages: pycuber\n",
            "Successfully installed pycuber-0.2.2\n"
          ]
        }
      ]
    },
    {
      "cell_type": "code",
      "execution_count": 20,
      "metadata": {
        "id": "Yr_Hv5a685Od"
      },
      "outputs": [],
      "source": [
        "import pycuber as pc\n",
        "import random"
      ]
    },
    {
      "cell_type": "code",
      "source": [
        "rlr = pc.Cube()"
      ],
      "metadata": {
        "id": "MgBtbNUi_Ngy"
      },
      "execution_count": 15,
      "outputs": []
    },
    {
      "cell_type": "code",
      "source": [
        "rlr"
      ],
      "metadata": {
        "colab": {
          "base_uri": "https://localhost:8080/"
        },
        "id": "gwINg1LK_nQG",
        "outputId": "36fc4bfe-139a-41e2-96bb-fa28cf453a69"
      },
      "execution_count": 16,
      "outputs": [
        {
          "output_type": "execute_result",
          "data": {
            "text/plain": [
              "      \u001b[43m  \u001b[49m\u001b[43m  \u001b[49m\u001b[43m  \u001b[49m\n",
              "      \u001b[43m  \u001b[49m\u001b[43m  \u001b[49m\u001b[43m  \u001b[49m\n",
              "      \u001b[43m  \u001b[49m\u001b[43m  \u001b[49m\u001b[43m  \u001b[49m\n",
              "\u001b[45m  \u001b[49m\u001b[45m  \u001b[49m\u001b[45m  \u001b[49m\u001b[42m  \u001b[49m\u001b[42m  \u001b[49m\u001b[42m  \u001b[49m\u001b[41m  \u001b[49m\u001b[41m  \u001b[49m\u001b[41m  \u001b[49m\u001b[46m  \u001b[49m\u001b[46m  \u001b[49m\u001b[46m  \u001b[49m\n",
              "\u001b[45m  \u001b[49m\u001b[45m  \u001b[49m\u001b[45m  \u001b[49m\u001b[42m  \u001b[49m\u001b[42m  \u001b[49m\u001b[42m  \u001b[49m\u001b[41m  \u001b[49m\u001b[41m  \u001b[49m\u001b[41m  \u001b[49m\u001b[46m  \u001b[49m\u001b[46m  \u001b[49m\u001b[46m  \u001b[49m\n",
              "\u001b[45m  \u001b[49m\u001b[45m  \u001b[49m\u001b[45m  \u001b[49m\u001b[42m  \u001b[49m\u001b[42m  \u001b[49m\u001b[42m  \u001b[49m\u001b[41m  \u001b[49m\u001b[41m  \u001b[49m\u001b[41m  \u001b[49m\u001b[46m  \u001b[49m\u001b[46m  \u001b[49m\u001b[46m  \u001b[49m\n",
              "      \u001b[47m  \u001b[49m\u001b[47m  \u001b[49m\u001b[47m  \u001b[49m\n",
              "      \u001b[47m  \u001b[49m\u001b[47m  \u001b[49m\u001b[47m  \u001b[49m\n",
              "      \u001b[47m  \u001b[49m\u001b[47m  \u001b[49m\u001b[47m  \u001b[49m"
            ]
          },
          "metadata": {},
          "execution_count": 16
        }
      ]
    },
    {
      "cell_type": "code",
      "source": [
        "rlr(\"L L R R F F B B U U D D\")"
      ],
      "metadata": {
        "colab": {
          "base_uri": "https://localhost:8080/"
        },
        "id": "oON_vSHS_nnS",
        "outputId": "58c30714-5ecd-4b11-cf91-f09f84f14e82"
      },
      "execution_count": 18,
      "outputs": [
        {
          "output_type": "execute_result",
          "data": {
            "text/plain": [
              "      \u001b[43m  \u001b[49m\u001b[47m  \u001b[49m\u001b[43m  \u001b[49m\n",
              "      \u001b[47m  \u001b[49m\u001b[43m  \u001b[49m\u001b[47m  \u001b[49m\n",
              "      \u001b[43m  \u001b[49m\u001b[47m  \u001b[49m\u001b[43m  \u001b[49m\n",
              "\u001b[45m  \u001b[49m\u001b[41m  \u001b[49m\u001b[45m  \u001b[49m\u001b[42m  \u001b[49m\u001b[46m  \u001b[49m\u001b[42m  \u001b[49m\u001b[41m  \u001b[49m\u001b[45m  \u001b[49m\u001b[41m  \u001b[49m\u001b[46m  \u001b[49m\u001b[42m  \u001b[49m\u001b[46m  \u001b[49m\n",
              "\u001b[41m  \u001b[49m\u001b[45m  \u001b[49m\u001b[41m  \u001b[49m\u001b[46m  \u001b[49m\u001b[42m  \u001b[49m\u001b[46m  \u001b[49m\u001b[45m  \u001b[49m\u001b[41m  \u001b[49m\u001b[45m  \u001b[49m\u001b[42m  \u001b[49m\u001b[46m  \u001b[49m\u001b[42m  \u001b[49m\n",
              "\u001b[45m  \u001b[49m\u001b[41m  \u001b[49m\u001b[45m  \u001b[49m\u001b[42m  \u001b[49m\u001b[46m  \u001b[49m\u001b[42m  \u001b[49m\u001b[41m  \u001b[49m\u001b[45m  \u001b[49m\u001b[41m  \u001b[49m\u001b[46m  \u001b[49m\u001b[42m  \u001b[49m\u001b[46m  \u001b[49m\n",
              "      \u001b[47m  \u001b[49m\u001b[43m  \u001b[49m\u001b[47m  \u001b[49m\n",
              "      \u001b[43m  \u001b[49m\u001b[47m  \u001b[49m\u001b[43m  \u001b[49m\n",
              "      \u001b[47m  \u001b[49m\u001b[43m  \u001b[49m\u001b[47m  \u001b[49m"
            ]
          },
          "metadata": {},
          "execution_count": 18
        }
      ]
    },
    {
      "cell_type": "code",
      "source": [
        "moves = ['L', \"L'\", \"R\", \"R'\", \"F\", \"F'\", \"B\", \"B'\", \"U\", \"U'\", \"D\", \"D'\"]"
      ],
      "metadata": {
        "id": "NPajv1lJ_9Ja"
      },
      "execution_count": 19,
      "outputs": []
    },
    {
      "cell_type": "code",
      "source": [
        "def isOpposite(m1, m2):\n",
        "  if m1 not in moves or m2 not in moves:\n",
        "    return False\n",
        "  a = m1 + \"'\"\n",
        "  b = m2 + \"'\"\n",
        "  return (a == m2 or b == m1)"
      ],
      "metadata": {
        "id": "sUkQLUpJDV3p"
      },
      "execution_count": 41,
      "outputs": []
    },
    {
      "cell_type": "code",
      "source": [
        "[isOpposite(\"L\", \"L'\"), isOpposite(\"L'\", \"L\"), isOpposite(\"L\", \"L\"), isOpposite(\"L\", \"D\")]"
      ],
      "metadata": {
        "colab": {
          "base_uri": "https://localhost:8080/"
        },
        "id": "KjQ-87u6E-tW",
        "outputId": "899137a8-e1d5-4085-d474-82d5941c97f1"
      },
      "execution_count": 42,
      "outputs": [
        {
          "output_type": "execute_result",
          "data": {
            "text/plain": [
              "[True, True, False, False]"
            ]
          },
          "metadata": {},
          "execution_count": 42
        }
      ]
    },
    {
      "cell_type": "code",
      "source": [
        "def scramble(cube, n):\n",
        "  # randomly scramble cube cube in n steps\n",
        "  last = \"\"\n",
        "  move = \"\"\n",
        "  for i in range(n):\n",
        "    start = True\n",
        "    while start or isOpposite(move, last):\n",
        "          k = random.randint(0, len(moves) - 1)\n",
        "          move = moves[k]\n",
        "          start = False\n",
        "    last = move\n",
        "    cube(move)"
      ],
      "metadata": {
        "id": "HYY5WEzUA9i-"
      },
      "execution_count": 43,
      "outputs": []
    },
    {
      "cell_type": "code",
      "source": [
        "rlr2 = pc.Cube()"
      ],
      "metadata": {
        "id": "VOO37qdlBibx"
      },
      "execution_count": 81,
      "outputs": []
    },
    {
      "cell_type": "code",
      "source": [
        "scramble(rlr2, 2)"
      ],
      "metadata": {
        "id": "CzqrkZVfBkna"
      },
      "execution_count": 82,
      "outputs": []
    },
    {
      "cell_type": "code",
      "source": [
        "rlr2"
      ],
      "metadata": {
        "colab": {
          "base_uri": "https://localhost:8080/"
        },
        "id": "6RArLB9TBnCR",
        "outputId": "f12522f9-528b-43d4-ab5d-55d1c24d58bd"
      },
      "execution_count": 83,
      "outputs": [
        {
          "output_type": "execute_result",
          "data": {
            "text/plain": [
              "      \u001b[41m  \u001b[49m\u001b[41m  \u001b[49m\u001b[46m  \u001b[49m\n",
              "      \u001b[43m  \u001b[49m\u001b[43m  \u001b[49m\u001b[46m  \u001b[49m\n",
              "      \u001b[43m  \u001b[49m\u001b[43m  \u001b[49m\u001b[46m  \u001b[49m\n",
              "\u001b[43m  \u001b[49m\u001b[45m  \u001b[49m\u001b[45m  \u001b[49m\u001b[42m  \u001b[49m\u001b[42m  \u001b[49m\u001b[41m  \u001b[49m\u001b[47m  \u001b[49m\u001b[47m  \u001b[49m\u001b[47m  \u001b[49m\u001b[45m  \u001b[49m\u001b[46m  \u001b[49m\u001b[46m  \u001b[49m\n",
              "\u001b[43m  \u001b[49m\u001b[45m  \u001b[49m\u001b[45m  \u001b[49m\u001b[42m  \u001b[49m\u001b[42m  \u001b[49m\u001b[43m  \u001b[49m\u001b[41m  \u001b[49m\u001b[41m  \u001b[49m\u001b[41m  \u001b[49m\u001b[47m  \u001b[49m\u001b[46m  \u001b[49m\u001b[46m  \u001b[49m\n",
              "\u001b[43m  \u001b[49m\u001b[45m  \u001b[49m\u001b[45m  \u001b[49m\u001b[42m  \u001b[49m\u001b[42m  \u001b[49m\u001b[43m  \u001b[49m\u001b[41m  \u001b[49m\u001b[41m  \u001b[49m\u001b[41m  \u001b[49m\u001b[47m  \u001b[49m\u001b[46m  \u001b[49m\u001b[46m  \u001b[49m\n",
              "      \u001b[47m  \u001b[49m\u001b[47m  \u001b[49m\u001b[42m  \u001b[49m\n",
              "      \u001b[47m  \u001b[49m\u001b[47m  \u001b[49m\u001b[42m  \u001b[49m\n",
              "      \u001b[45m  \u001b[49m\u001b[45m  \u001b[49m\u001b[42m  \u001b[49m"
            ]
          },
          "metadata": {},
          "execution_count": 83
        }
      ]
    },
    {
      "cell_type": "code",
      "source": [],
      "metadata": {
        "id": "5NLG6o44Bntv"
      },
      "execution_count": null,
      "outputs": []
    }
  ]
}